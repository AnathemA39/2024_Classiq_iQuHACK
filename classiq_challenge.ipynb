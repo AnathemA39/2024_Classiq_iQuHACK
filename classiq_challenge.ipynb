{
 "cells": [
  {
   "cell_type": "markdown",
   "metadata": {},
   "source": [
    "# Classiq Challenge - Quantum Arithmetics"
   ]
  },
  {
   "cell_type": "markdown",
   "metadata": {},
   "source": [
    "Welcome to the Classiq challenge of the 2024 MIT IQuHack hackathon!\n",
    "This Jupyter notebook is the framework for the challenge and you should follow it in order to solve it using Classiq (alongside the guidelines of the challenge).\n",
    "\n",
    "The notebook has 3 parts:\n",
    "1. A warm up session, just to get up to speed with a small example of Classiq\n",
    "2. The challenge itself, including what you need to create, what's the format, and how you can check yourself\n",
    "3. A cheat sheet with relevant Classiq functions declarations\n",
    "\n",
    "Additional resources you should use are\n",
    "- The IDE of the classiq platform at [platform.classiq.io](platform.classiq.io)\n",
    "- The [community Slack of Classiq](https://short.classiq.io/join-slack) - Classiq's team will answer any question you have over there, including implementation questions\n",
    "- [Classiq's documentation](https://docs.classiq.io/latest/user-guide/platform/) with the dedicated [Python SDK explanations](https://docs.classiq.io/latest/user-guide/platform/qmod/python/functions/)\n",
    "\n",
    "Good luck!"
   ]
  },
  {
   "cell_type": "markdown",
   "metadata": {},
   "source": [
    "![Classiq](MITClassiq.png)"
   ]
  },
  {
   "cell_type": "markdown",
   "metadata": {},
   "source": [
    "## Warm Up"
   ]
  },
  {
   "cell_type": "markdown",
   "metadata": {},
   "source": [
    "Firstly, if you haven't done so far, you need to install the Classiq SDK package: "
   ]
  },
  {
   "cell_type": "code",
   "execution_count": null,
   "metadata": {},
   "outputs": [],
   "source": [
    "!pip install -U classiq"
   ]
  },
  {
   "cell_type": "markdown",
   "metadata": {},
   "source": [
    "and to authenticate your device against the Classiq backend:"
   ]
  },
  {
   "cell_type": "code",
   "execution_count": null,
   "metadata": {},
   "outputs": [],
   "source": [
    "import classiq\n",
    "classiq.authenticate()"
   ]
  },
  {
   "cell_type": "markdown",
   "metadata": {},
   "source": [
    "Let's create a uniform superposition of numbers in the domain $[0,1)$ with equal spacing of $\\frac{1}{2^K}$ for $K=5$:"
   ]
  },
  {
   "cell_type": "code",
   "execution_count": null,
   "metadata": {},
   "outputs": [],
   "source": [
    "from classiq import *\n",
    "K =5\n",
    "\n",
    "@QFunc\n",
    "def main(x:Output[QNum]):\n",
    "    allocate_num(num_qubits=K, is_signed=False, fraction_digits=K,out=x)\n",
    "    hadamard_transform(x)\n",
    "\n",
    "quantum_model = create_model(main)\n",
    "quantum_program = synthesize(quantum_model)\n",
    "\n",
    "show(quantum_program) # view the circuit in the IDE\n",
    "\n",
    "results = execute(quantum_program)\n",
    "results.open_in_ide() # view the resulted histogram in the IDE"
   ]
  },
  {
   "cell_type": "markdown",
   "metadata": {},
   "source": [
    "That's cool right? :)\n",
    "\n",
    "If you are more a Python person, this is how you can post-process your results:"
   ]
  },
  {
   "cell_type": "code",
   "execution_count": null,
   "metadata": {},
   "outputs": [],
   "source": [
    "parsed_counts = results.result()[0].value.parsed_counts\n",
    "sorted_counts = sorted(parsed_counts, key=lambda x: x.state[\"x\"])\n",
    "for state_counts in sorted_counts: print('State: ', state_counts.state, '| Shots: ', state_counts.shots)"
   ]
  },
  {
   "cell_type": "markdown",
   "metadata": {},
   "source": [
    "## The Challenge Itself"
   ]
  },
  {
   "cell_type": "markdown",
   "metadata": {},
   "source": [
    "### Imports"
   ]
  },
  {
   "cell_type": "code",
   "execution_count": 12,
   "metadata": {},
   "outputs": [],
   "source": [
    "# All the imports needed\n",
    "from classiq import *\n",
    "\n",
    "from classiq.interface.backend.backend_preferences import ClassiqBackendPreferences\n",
    "from classiq.interface.executor.execution_preferences import ExecutionPreferences\n",
    "from classiq.interface.model.model import Model as Model_Designer\n",
    "\n",
    "import numpy as np\n",
    "import json"
   ]
  },
  {
   "cell_type": "markdown",
   "metadata": {},
   "source": [
    "### The Heart of the Code - Build Your Algorithm Here"
   ]
  },
  {
   "cell_type": "code",
   "execution_count": null,
   "metadata": {},
   "outputs": [],
   "source": [
    "# The functions you need go here"
   ]
  },
  {
   "cell_type": "code",
   "execution_count": null,
   "metadata": {},
   "outputs": [],
   "source": [
    "# The heart of the code - the function that calculates the hyperbolic tangent\n",
    "@QFunc\n",
    "def compute_tanh(precision: QParam[int],    # The precision of x and tanh_x - how many fraction digits will represent your solution\n",
    "                 x: QNum,                   # A quantum variable that is represents numbers\n",
    "                 tanh_x: Output[QNum]       # The output of the function, which means it needs to be initialized within the scope of the function\n",
    "                 ):\n",
    "    \n",
    "    pass #TODO delete pass and write your code here"
   ]
  },
  {
   "cell_type": "code",
   "execution_count": 1,
   "metadata": {},
   "outputs": [],
   "source": [
    "# Your precision value\n",
    "precision = 4"
   ]
  },
  {
   "cell_type": "code",
   "execution_count": null,
   "metadata": {},
   "outputs": [],
   "source": [
    "# Do not change this part of the code !\n",
    "\n",
    "@QFunc\n",
    "def main(x: Output[QNum],y: Output[QNum]):\n",
    "\n",
    "    # A quantum variable which represents numbers is initialized\n",
    "    allocate_num(num_qubits=precision,      \n",
    "                is_signed=False,            \n",
    "                fraction_digits=precision,\n",
    "                out=x)\n",
    "    \n",
    "    # Initalizing over all possible values of the quantum number with the hadamard transform\n",
    "    hadamard_transform(x)\n",
    "\n",
    "    # Computing your compute_tanh function\n",
    "    compute_tanh(precision,x,y)\n",
    "\n",
    "# Generating the model itslef\n",
    "qmod = create_model(main)"
   ]
  },
  {
   "cell_type": "markdown",
   "metadata": {},
   "source": [
    "### Saving the Files - What You Need To Submit"
   ]
  },
  {
   "cell_type": "markdown",
   "metadata": {},
   "source": [
    "First, define the precisions of your solutions:"
   ]
  },
  {
   "cell_type": "code",
   "execution_count": null,
   "metadata": {},
   "outputs": [],
   "source": [
    "#Precision values stages 1&2 - You need to enter these values in Google Form submission\n",
    "precision_value_stage_1 = 4 \n",
    "precision_value_stage_2 = 7"
   ]
  },
  {
   "cell_type": "markdown",
   "metadata": {},
   "source": [
    "Then we can create adapted quantum models for the two stages according to the corresponding precisions and constraints:"
   ]
  },
  {
   "cell_type": "code",
   "execution_count": null,
   "metadata": {},
   "outputs": [],
   "source": [
    "def get_model_with_new_precision(qmod, new_precision):\n",
    "    '''\n",
    "    The function adapts the precision value in the qmod according to the new precision value given.\n",
    "    '''\n",
    "    \n",
    "    @QFunc\n",
    "    def compute_tanh(\n",
    "        precision: QParam[int],\n",
    "        x: QNum,\n",
    "        tanh_x: Output[QNum],\n",
    "    ):\n",
    "        # dummy implementation\n",
    "        allocate_num(precision, False, precision, tanh_x)\n",
    "\n",
    "    @QFunc\n",
    "    def main(x: Output[QNum], y: Output[QNum]):\n",
    "        allocate_num(new_precision, False, new_precision, x)\n",
    "        hadamard_transform(x)\n",
    "        compute_tanh(new_precision, x, y)\n",
    "\n",
    "    new_main = main.create_model().main_func\n",
    "    parsed_qmod = Model_Designer.parse_obj(json.loads(qmod))\n",
    "    new_model = Model_Designer(functions=[f for f in parsed_qmod.functions if f.name != \"main\"] + [new_main])\n",
    "    return new_model.get_model()\n",
    "\n",
    "#Synthesis time out\n",
    "synthesis_timeout_sec = 180\n",
    "\n",
    "# Adapting the qmod for the relevant constraints - stage 1\n",
    "max_width_stage_1 = 30\n",
    "max_depth_stage_1 = 3000\n",
    "qmod_stage_1 = get_model_with_new_precision(qmod,precision_value_stage_1)\n",
    "qmod_stage_1 = set_constraints(qmod_stage_1,Constraints(max_width=max_width_stage_1,max_depth=max_depth_stage_1))\n",
    "qmod_stage_1 = set_preferences(qmod_stage_1, Preferences(timeout_seconds=synthesis_timeout_sec))\n",
    "\n",
    "# Adapting the qmod for the relevant constraints - stage 2\n",
    "max_width_stage_2 = 100\n",
    "max_depth_stage_2 = 30000\n",
    "optimization_param = \"depth\"\n",
    "qmod_stage_2 = get_model_with_new_precision(qmod,precision_value_stage_2)\n",
    "qmod_stage_2 = set_constraints(qmod_stage_2,Constraints(max_width=max_width_stage_2,max_depth=max_depth_stage_2,optimization_parameter=optimization_param))\n",
    "qmod_stage_2 = set_preferences(qmod_stage_2, Preferences(timeout_seconds=synthesis_timeout_sec))\n"
   ]
  },
  {
   "cell_type": "markdown",
   "metadata": {},
   "source": [
    "Now in order to save the deliverables files, you should adapt the following file names including their locations (no need to include the file extensions, i.e. do not add `.qprog`/`.qmod` at the end):"
   ]
  },
  {
   "cell_type": "code",
   "execution_count": null,
   "metadata": {},
   "outputs": [],
   "source": [
    "# Files names (no extensions needed!)\n",
    "file_name_qmod = 'qmod_default' #TODO change to your file_name\n",
    "file_name_qprog_stage_1 = 'qprog_stage_1_default' #TODO change to your file_name\n",
    "file_name_qprog_stage_2 = 'qprog_stage_2_default' #TODO change to your file_name"
   ]
  },
  {
   "cell_type": "markdown",
   "metadata": {},
   "source": [
    "Run the following cell to save the relevant deliverables:\n",
    "1. Your model (`.qmod` file)\n",
    "2. Your quantum program for stage 1 with the corresponding precision (`.qprog` file)\n",
    "3. Your quantum program for stage 2 with the corresponding precision (`.qprog` file)"
   ]
  },
  {
   "cell_type": "code",
   "execution_count": null,
   "metadata": {},
   "outputs": [],
   "source": [
    "def save_new_file(program_to_save,file_name):\n",
    "    '''\n",
    "    A simple function that saves your code as a text file\n",
    "    '''\n",
    "    file = open(file_name,\"w\")\n",
    "    file.write(program_to_save)\n",
    "    file.close()\n",
    "\n",
    "\n",
    "# Saving the qmod\n",
    "save_new_file(qmod, file_name_qmod+'.qmod') # You need to submit this file\n",
    "\n",
    "# Save the qprof of stage 1\n",
    "qprog_stage_1 = synthesize(qmod_stage_1)\n",
    "save_new_file(qprog_stage_1, file_name_qprog_stage_1+'.qprog') # You need to submit this file\n",
    "\n",
    "# Save the qprog of stage 2\n",
    "qprog_stage_2 = synthesize(qmod_stage_2)\n",
    "save_new_file(qprog_stage_2, file_name_qprog_stage_2+'.qprog') # You need to submit this file"
   ]
  },
  {
   "cell_type": "markdown",
   "metadata": {},
   "source": [
    "It's worth checking out your quantum programs by viewing them:"
   ]
  },
  {
   "cell_type": "code",
   "execution_count": null,
   "metadata": {},
   "outputs": [],
   "source": [
    "show(qprog_stage_1)"
   ]
  },
  {
   "cell_type": "code",
   "execution_count": null,
   "metadata": {},
   "outputs": [],
   "source": [
    "show(qprog_stage_2)"
   ]
  },
  {
   "cell_type": "markdown",
   "metadata": {},
   "source": [
    "### Evaluate Your Results"
   ]
  },
  {
   "cell_type": "markdown",
   "metadata": {},
   "source": [
    "Evaluate the results of stage 1:\n",
    "\n",
    "**NOTE!** \n",
    "- With the `aer_simulator` you can simulate up to 25 qubits circuit\n",
    "- With the `nvidia_state_vector_simulator` you can simulate up to 30 qubits circuit, but you can use it up to 10 times, so make sure to use it wisely"
   ]
  },
  {
   "cell_type": "code",
   "execution_count": null,
   "metadata": {},
   "outputs": [],
   "source": [
    "\n",
    "def evaluate_score_stage_1(results, user_input_precision):\n",
    "\n",
    "    # The array of values the code is compared against \n",
    "    calculated_precision = 10\n",
    "    domain = np.arange(0, 1, 1/ 2**calculated_precision)\n",
    "    expected_y = np.tanh(domain)\n",
    "    \n",
    "    # Sort the results according to the values of x\n",
    "    parsed_counts = sorted(results[0].value.parsed_counts, key=lambda x: x.state[\"x\"])\n",
    "    for tuple in parsed_counts: print(tuple.state)\n",
    "\n",
    "    # Form the relevant dictionary with values of 'x' and 'y'\n",
    "    results_dict = {s.state['x']: s.state['y'] for s in parsed_counts}\n",
    "\n",
    "    # Verify all strings were sampled, also no superpositions\n",
    "    assert len(results_dict) == 2 ** user_input_precision \n",
    "\n",
    "    # Comparing to the users results\n",
    "    measured_y = []\n",
    "    for x_val in domain:\n",
    "        # The y value that is assesd at x_val is the y value of the first x the user has such that x<x_val\n",
    "        x_val_floored = int(x_val * (2**user_input_precision)) / (2**user_input_precision)\n",
    "        measured_y.append(results_dict[x_val_floored])\n",
    "\n",
    "    # The metric asseses what's the largest distancce between the expected value and the measured value, the smallest the better\n",
    "    max_distance = np.max(np.abs(expected_y - np.array(measured_y)))\n",
    "    return max_distance\n",
    "\n",
    "def print_depth_width(quantum_program):\n",
    "    generated_circuit = GeneratedCircuit.parse_obj(json.loads(quantum_program))\n",
    "    print(f\"Synthesized circuit width: {generated_circuit.data.width}, depth: {generated_circuit.transpiled_circuit.depth}\")\n",
    "\n",
    "# Execution parameters\n",
    "num_shots = 1000\n",
    "backend_name = \"aer_simulator\" # \"aer_simulator\", \"nvidia_state_vector_simulator\"\n",
    "\n",
    "qmod_stage_1 = set_execution_preferences(qmod_stage_1, \n",
    "                                        ExecutionPreferences(\n",
    "                                            num_shots=1000,  # The number of shots is a hyperparameter of the algorithm\n",
    "                                            backend_preferences=ClassiqBackendPreferences(\n",
    "                                                                    backend_name=backend_name))) #aer_simulator / nvidia_state_vector_simulator\n",
    "print('Synthesizing quantum program stage 1 with the execution preferences')\n",
    "qprog_stage_1 = synthesize(qmod_stage_1)\n",
    "print_depth_width(qprog_stage_1)\n",
    "print('Executing the quantum program')\n",
    "results = execute(qprog_stage_1).result()\n",
    "print(\"Results of stage 1 \\n Max distance = \", evaluate_score_stage_1(results, precision_value_stage_1))"
   ]
  },
  {
   "cell_type": "markdown",
   "metadata": {},
   "source": [
    "Evluate the results of stage 2:"
   ]
  },
  {
   "cell_type": "code",
   "execution_count": null,
   "metadata": {},
   "outputs": [],
   "source": [
    "generated_circuit = GeneratedCircuit.parse_obj(json.loads(qprog_stage_2))\n",
    "print(f'\\nResults of stage 2 \\nPrecision = {precision_value_stage_2}, Circuit depth = {generated_circuit.transpiled_circuit.depth}')"
   ]
  },
  {
   "cell_type": "markdown",
   "metadata": {},
   "source": [
    "## Cheat Sheet"
   ]
  },
  {
   "cell_type": "markdown",
   "metadata": {},
   "source": []
  }
 ],
 "metadata": {
  "kernelspec": {
   "display_name": "Python 3.9.7 ('classiq_0_36_1')",
   "language": "python",
   "name": "python3"
  },
  "language_info": {
   "codemirror_mode": {
    "name": "ipython",
    "version": 3
   },
   "file_extension": ".py",
   "mimetype": "text/x-python",
   "name": "python",
   "nbconvert_exporter": "python",
   "pygments_lexer": "ipython3",
   "version": "3.9.7"
  },
  "orig_nbformat": 4,
  "vscode": {
   "interpreter": {
    "hash": "39f2fb914d68d910e6a44db3a048977f45af665714e1ed570fe3896698105d3f"
   }
  }
 },
 "nbformat": 4,
 "nbformat_minor": 2
}
